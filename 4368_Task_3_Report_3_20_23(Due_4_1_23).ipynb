{
  "nbformat": 4,
  "nbformat_minor": 0,
  "metadata": {
    "colab": {
      "provenance": [],
      "authorship_tag": "ABX9TyP2v1h1DrcNfvoxFe/bZKDm",
      "include_colab_link": true
    },
    "kernelspec": {
      "name": "python3",
      "display_name": "Python 3"
    },
    "language_info": {
      "name": "python"
    }
  },
  "cells": [
    {
      "cell_type": "markdown",
      "metadata": {
        "id": "view-in-github",
        "colab_type": "text"
      },
      "source": [
        "<a href=\"https://colab.research.google.com/github/JasonMullen/A.I.-4365-Assignments/blob/main/4368_Task_3_Report_3_20_23(Due_4_1_23).ipynb\" target=\"_parent\"><img src=\"https://colab.research.google.com/assets/colab-badge.svg\" alt=\"Open In Colab\"/></a>"
      ]
    },
    {
      "cell_type": "markdown",
      "source": [
        "# Using SVM and NN Tools\n",
        "\n",
        "\n",
        "1. Neural networks\n",
        "\n",
        "\n",
        ">●\tFor the MLP, you should use two of the following activation functions: 1. Logistic/sigmoid 2. Tanh and 3. Relu\n",
        "\n",
        "\n",
        "2. Support Vector machines\n",
        "\n",
        "> ●\tFor the SVM, you should use 2 different kernels (any kernel is fine, you can use the linear kernel as one kernel)\n",
        "\n",
        "3. An extra credit of up to 15% of this task will be given for exploring approaches which minimize the MAE for the dependent variable instead of the classification accuracy. \n",
        "\n",
        "\n"
      ],
      "metadata": {
        "id": "t0172LRiVOY7"
      }
    },
    {
      "cell_type": "code",
      "execution_count": null,
      "metadata": {
        "id": "urcJy5ZMT1L6"
      },
      "outputs": [],
      "source": []
    }
  ]
}