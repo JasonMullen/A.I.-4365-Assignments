{
  "nbformat": 4,
  "nbformat_minor": 0,
  "metadata": {
    "colab": {
      "provenance": [],
      "authorship_tag": "ABX9TyOn2sC8bJBH4sx5h44yX+vo",
      "include_colab_link": true
    },
    "kernelspec": {
      "name": "python3",
      "display_name": "Python 3"
    },
    "language_info": {
      "name": "python"
    }
  },
  "cells": [
    {
      "cell_type": "markdown",
      "metadata": {
        "id": "view-in-github",
        "colab_type": "text"
      },
      "source": [
        "<a href=\"https://colab.research.google.com/github/JasonMullen/A.I.-4365-Assignments/blob/main/Backtracking%20algorithm.ipynb\" target=\"_parent\"><img src=\"https://colab.research.google.com/assets/colab-badge.svg\" alt=\"Open In Colab\"/></a>"
      ]
    },
    {
      "cell_type": "markdown",
      "source": [
        "# BackTracking Algorithm Explination:\n",
        "\n",
        "\n",
        "> Here's a more detailed explanation of the backtracking algorithm:\n",
        "\n",
        ">> 1.)Start with an empty assignment, which is a partial or complete solution to the problem. In the case of a CSP, the assignment maps each variable to a value.\n",
        "\n",
        ">>2.)Choose an unassigned variable that has not yet been assigned a value.\n",
        "\n",
        ">>3.)For each value in the domain of the variable, add the value to the assignment and check if the assignment satisfies all constraints.\n",
        "\n",
        ">>4.)If the assignment violates any constraint, remove the value from the assignment and try the next value in the domain.\n",
        "\n",
        ">>5.)If there are no more values to try for the current variable, backtrack to the previous variable and try the next value in its domain.\n",
        "\n",
        ">>6.)If all variables have been assigned a value and the assignment satisfies all constraints, return the assignment as a solution.\n",
        "\n",
        ">>7.)If backtracking has returned to the original variable with no remaining values to try, terminate the algorithm.\n",
        "\n",
        "The backtracking algorithm proceeds by recursively exploring the search tree defined by the choices made in steps 2-4. At each node of the tree, the algorithm chooses one of the remaining values for the current variable, and checks if the assignment satisfies all constraints. If the assignment is consistent with the constraints, the algorithm proceeds to the next variable. If at any point the algorithm reaches a dead end (i.e., there are no remaining values for a variable), it backtracks to the most recent variable with remaining values and tries the next value.\n",
        "In the case of a CSP, backtracking search can be augmented with additional techniques to improve its efficiency, such as variable and value ordering heuristics, and constraint propagation techniques.\n",
        "\n",
        "\n",
        "\n",
        "\n",
        "\n",
        "\n",
        "\n",
        "\n",
        "\n",
        "\n",
        "\n",
        "\n"
      ],
      "metadata": {
        "id": "o9bCSKul1csF"
      }
    },
    {
      "cell_type": "code",
      "execution_count": 2,
      "metadata": {
        "colab": {
          "base_uri": "https://localhost:8080/",
          "height": 415
        },
        "id": "YESRWc8zxujr",
        "outputId": "4cb2bda9-0daf-4483-de28-ffcb0b5711d6"
      },
      "outputs": [
        {
          "output_type": "stream",
          "name": "stdout",
          "text": [
            "Solutions to the problems:\n",
            "Problem 1:\n"
          ]
        },
        {
          "output_type": "error",
          "ename": "KeyError",
          "evalue": "ignored",
          "traceback": [
            "\u001b[0;31m---------------------------------------------------------------------------\u001b[0m",
            "\u001b[0;31mKeyError\u001b[0m                                  Traceback (most recent call last)",
            "\u001b[0;32m<ipython-input-2-2bfe91690e78>\u001b[0m in \u001b[0;36m<module>\u001b[0;34m\u001b[0m\n\u001b[1;32m     56\u001b[0m         \u001b[0;32mdel\u001b[0m \u001b[0mdomains\u001b[0m\u001b[0;34m[\u001b[0m\u001b[0;34m'O'\u001b[0m\u001b[0;34m]\u001b[0m\u001b[0;34m\u001b[0m\u001b[0;34m\u001b[0m\u001b[0m\n\u001b[1;32m     57\u001b[0m         \u001b[0;32mdel\u001b[0m \u001b[0mdomains\u001b[0m\u001b[0;34m[\u001b[0m\u001b[0;34m'P'\u001b[0m\u001b[0;34m]\u001b[0m\u001b[0;34m\u001b[0m\u001b[0;34m\u001b[0m\u001b[0m\n\u001b[0;32m---> 58\u001b[0;31m     \u001b[0msolution\u001b[0m \u001b[0;34m=\u001b[0m \u001b[0mbacktrack\u001b[0m\u001b[0;34m(\u001b[0m\u001b[0;34m{\u001b[0m\u001b[0;34m}\u001b[0m\u001b[0;34m)\u001b[0m\u001b[0;34m\u001b[0m\u001b[0;34m\u001b[0m\u001b[0m\n\u001b[0m\u001b[1;32m     59\u001b[0m     \u001b[0;32mif\u001b[0m \u001b[0msolution\u001b[0m \u001b[0;32mis\u001b[0m \u001b[0;32mNone\u001b[0m\u001b[0;34m:\u001b[0m\u001b[0;34m\u001b[0m\u001b[0;34m\u001b[0m\u001b[0m\n\u001b[1;32m     60\u001b[0m         \u001b[0mprint\u001b[0m\u001b[0;34m(\u001b[0m\u001b[0;34m\"No solution found.\"\u001b[0m\u001b[0;34m)\u001b[0m\u001b[0;34m\u001b[0m\u001b[0;34m\u001b[0m\u001b[0m\n",
            "\u001b[0;32m<ipython-input-2-2bfe91690e78>\u001b[0m in \u001b[0;36mbacktrack\u001b[0;34m(assignment)\u001b[0m\n\u001b[1;32m     27\u001b[0m     \u001b[0;32mif\u001b[0m \u001b[0mall\u001b[0m\u001b[0;34m(\u001b[0m\u001b[0mlen\u001b[0m\u001b[0;34m(\u001b[0m\u001b[0mdomains\u001b[0m\u001b[0;34m[\u001b[0m\u001b[0mvar\u001b[0m\u001b[0;34m]\u001b[0m\u001b[0;34m)\u001b[0m \u001b[0;34m==\u001b[0m \u001b[0;36m1\u001b[0m \u001b[0;32mfor\u001b[0m \u001b[0mvar\u001b[0m \u001b[0;32min\u001b[0m \u001b[0mvariables\u001b[0m\u001b[0;34m)\u001b[0m\u001b[0;34m:\u001b[0m\u001b[0;34m\u001b[0m\u001b[0;34m\u001b[0m\u001b[0m\n\u001b[1;32m     28\u001b[0m         \u001b[0;32mreturn\u001b[0m \u001b[0massignment\u001b[0m\u001b[0;34m\u001b[0m\u001b[0;34m\u001b[0m\u001b[0m\n\u001b[0;32m---> 29\u001b[0;31m     \u001b[0mvar\u001b[0m \u001b[0;34m=\u001b[0m \u001b[0mmin\u001b[0m\u001b[0;34m(\u001b[0m\u001b[0mfilter\u001b[0m\u001b[0;34m(\u001b[0m\u001b[0;32mlambda\u001b[0m \u001b[0mv\u001b[0m\u001b[0;34m:\u001b[0m \u001b[0mlen\u001b[0m\u001b[0;34m(\u001b[0m\u001b[0mdomains\u001b[0m\u001b[0;34m[\u001b[0m\u001b[0mv\u001b[0m\u001b[0;34m]\u001b[0m\u001b[0;34m)\u001b[0m \u001b[0;34m>\u001b[0m \u001b[0;36m1\u001b[0m\u001b[0;34m,\u001b[0m \u001b[0mvariables\u001b[0m\u001b[0;34m)\u001b[0m\u001b[0;34m,\u001b[0m \u001b[0mkey\u001b[0m\u001b[0;34m=\u001b[0m\u001b[0;32mlambda\u001b[0m \u001b[0mv\u001b[0m\u001b[0;34m:\u001b[0m \u001b[0mlen\u001b[0m\u001b[0;34m(\u001b[0m\u001b[0mdomains\u001b[0m\u001b[0;34m[\u001b[0m\u001b[0mv\u001b[0m\u001b[0;34m]\u001b[0m\u001b[0;34m)\u001b[0m\u001b[0;34m)\u001b[0m\u001b[0;34m\u001b[0m\u001b[0;34m\u001b[0m\u001b[0m\n\u001b[0m\u001b[1;32m     30\u001b[0m     \u001b[0;32mfor\u001b[0m \u001b[0mvalue\u001b[0m \u001b[0;32min\u001b[0m \u001b[0mdomains\u001b[0m\u001b[0;34m[\u001b[0m\u001b[0mvar\u001b[0m\u001b[0;34m]\u001b[0m\u001b[0;34m:\u001b[0m\u001b[0;34m\u001b[0m\u001b[0;34m\u001b[0m\u001b[0m\n\u001b[1;32m     31\u001b[0m         \u001b[0mnew_assignment\u001b[0m \u001b[0;34m=\u001b[0m \u001b[0mdict\u001b[0m\u001b[0;34m(\u001b[0m\u001b[0massignment\u001b[0m\u001b[0;34m)\u001b[0m\u001b[0;34m\u001b[0m\u001b[0;34m\u001b[0m\u001b[0m\n",
            "\u001b[0;32m<ipython-input-2-2bfe91690e78>\u001b[0m in \u001b[0;36m<lambda>\u001b[0;34m(v)\u001b[0m\n\u001b[1;32m     27\u001b[0m     \u001b[0;32mif\u001b[0m \u001b[0mall\u001b[0m\u001b[0;34m(\u001b[0m\u001b[0mlen\u001b[0m\u001b[0;34m(\u001b[0m\u001b[0mdomains\u001b[0m\u001b[0;34m[\u001b[0m\u001b[0mvar\u001b[0m\u001b[0;34m]\u001b[0m\u001b[0;34m)\u001b[0m \u001b[0;34m==\u001b[0m \u001b[0;36m1\u001b[0m \u001b[0;32mfor\u001b[0m \u001b[0mvar\u001b[0m \u001b[0;32min\u001b[0m \u001b[0mvariables\u001b[0m\u001b[0;34m)\u001b[0m\u001b[0;34m:\u001b[0m\u001b[0;34m\u001b[0m\u001b[0;34m\u001b[0m\u001b[0m\n\u001b[1;32m     28\u001b[0m         \u001b[0;32mreturn\u001b[0m \u001b[0massignment\u001b[0m\u001b[0;34m\u001b[0m\u001b[0;34m\u001b[0m\u001b[0m\n\u001b[0;32m---> 29\u001b[0;31m     \u001b[0mvar\u001b[0m \u001b[0;34m=\u001b[0m \u001b[0mmin\u001b[0m\u001b[0;34m(\u001b[0m\u001b[0mfilter\u001b[0m\u001b[0;34m(\u001b[0m\u001b[0;32mlambda\u001b[0m \u001b[0mv\u001b[0m\u001b[0;34m:\u001b[0m \u001b[0mlen\u001b[0m\u001b[0;34m(\u001b[0m\u001b[0mdomains\u001b[0m\u001b[0;34m[\u001b[0m\u001b[0mv\u001b[0m\u001b[0;34m]\u001b[0m\u001b[0;34m)\u001b[0m \u001b[0;34m>\u001b[0m \u001b[0;36m1\u001b[0m\u001b[0;34m,\u001b[0m \u001b[0mvariables\u001b[0m\u001b[0;34m)\u001b[0m\u001b[0;34m,\u001b[0m \u001b[0mkey\u001b[0m\u001b[0;34m=\u001b[0m\u001b[0;32mlambda\u001b[0m \u001b[0mv\u001b[0m\u001b[0;34m:\u001b[0m \u001b[0mlen\u001b[0m\u001b[0;34m(\u001b[0m\u001b[0mdomains\u001b[0m\u001b[0;34m[\u001b[0m\u001b[0mv\u001b[0m\u001b[0;34m]\u001b[0m\u001b[0;34m)\u001b[0m\u001b[0;34m)\u001b[0m\u001b[0;34m\u001b[0m\u001b[0;34m\u001b[0m\u001b[0m\n\u001b[0m\u001b[1;32m     30\u001b[0m     \u001b[0;32mfor\u001b[0m \u001b[0mvalue\u001b[0m \u001b[0;32min\u001b[0m \u001b[0mdomains\u001b[0m\u001b[0;34m[\u001b[0m\u001b[0mvar\u001b[0m\u001b[0;34m]\u001b[0m\u001b[0;34m:\u001b[0m\u001b[0;34m\u001b[0m\u001b[0;34m\u001b[0m\u001b[0m\n\u001b[1;32m     31\u001b[0m         \u001b[0mnew_assignment\u001b[0m \u001b[0;34m=\u001b[0m \u001b[0mdict\u001b[0m\u001b[0;34m(\u001b[0m\u001b[0massignment\u001b[0m\u001b[0;34m)\u001b[0m\u001b[0;34m\u001b[0m\u001b[0;34m\u001b[0m\u001b[0m\n",
            "\u001b[0;31mKeyError\u001b[0m: 'P'"
          ]
        }
      ],
      "source": [
        "import itertools\n",
        "\n",
        "# Define the variables and their domains\n",
        "variables = ['A', 'B', 'C', 'D', 'E', 'F', 'G', 'H', 'I', 'J', 'K', 'L', 'M', 'N', 'O', 'P']\n",
        "domains = {var: set(range(1, 126)) for var in variables}\n",
        "\n",
        "# Define the constraints\n",
        "def all_different(variables):\n",
        "    for v1, v2 in itertools.combinations(variables, 2):\n",
        "        if v1 == v2:\n",
        "            return False\n",
        "    return True\n",
        "\n",
        "constraints = [\n",
        "    (['A', 'B', 'C', 'D', 'E'], all_different),\n",
        "    (['F', 'G', 'H', 'I', 'J'], all_different),\n",
        "    (['K', 'L', 'M', 'N', 'O', 'P'], all_different),\n",
        "    (['A', 'F', 'K'], lambda values: values[0] + values[1] + values[2] == 195),\n",
        "    (['B', 'G', 'L'], lambda values: values[0] + values[1] + values[2] == 195),\n",
        "    (['C', 'H', 'M'], lambda values: values[0] + values[1] + values[2] == 195),\n",
        "    (['D', 'I', 'N'], lambda values: values[0] + values[1] + values[2] == 195),\n",
        "    (['E', 'J', 'O', 'P'], lambda values: values[0] + values[1] + values[2] + values[3] == 195)\n",
        "]\n",
        "\n",
        "# Define the backtracking search algorithm\n",
        "def backtrack(assignment):\n",
        "    if all(len(domains[var]) == 1 for var in variables):\n",
        "        return assignment\n",
        "    var = min(filter(lambda v: len(domains[v]) > 1, variables), key=lambda v: len(domains[v]))\n",
        "    for value in domains[var]:\n",
        "        new_assignment = dict(assignment)\n",
        "        new_assignment[var] = value\n",
        "        if all(constraint([new_assignment[var] for var in variables]) for variables, constraint in constraints):\n",
        "            new_domains = dict(domains)\n",
        "            new_domains[var] = set([value])\n",
        "            for v in variables:\n",
        "                if v != var and value in new_domains[v]:\n",
        "                    new_domains[v].remove(value)\n",
        "            result = backtrack(new_assignment)\n",
        "            if result is not None:\n",
        "                return result\n",
        "            domains.update(new_domains)\n",
        "    return None\n",
        "\n",
        "# Solve the problems\n",
        "print(\"Solutions to the problems:\")\n",
        "for problem_num in range(1, 4):\n",
        "    print(f\"Problem {problem_num}:\")\n",
        "    for var in variables:\n",
        "        domains[var] = set(range(1, 126))\n",
        "    if problem_num == 1:\n",
        "        del domains['P']\n",
        "    elif problem_num == 2:\n",
        "        del domains['N']\n",
        "    else:\n",
        "        del domains['O']\n",
        "        del domains['P']\n",
        "    solution = backtrack({})\n",
        "    if solution is None:\n",
        "        print(\"No solution found.\")\n",
        "    else:\n",
        "        for var in variables:\n",
        "            print(f\"{var}: {solution[var]}\")\n",
        "        print()\n"
      ]
    }
  ]
}