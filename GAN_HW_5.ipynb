{
  "nbformat": 4,
  "nbformat_minor": 0,
  "metadata": {
    "colab": {
      "provenance": [],
      "authorship_tag": "ABX9TyN6Qass3PIXWcQZszCjmfDO",
      "include_colab_link": true
    },
    "kernelspec": {
      "name": "python3",
      "display_name": "Python 3"
    },
    "language_info": {
      "name": "python"
    }
  },
  "cells": [
    {
      "cell_type": "markdown",
      "metadata": {
        "id": "view-in-github",
        "colab_type": "text"
      },
      "source": [
        "<a href=\"https://colab.research.google.com/github/JasonMullen/A.I.-4365-Assignments/blob/main/GAN_HW_5.ipynb\" target=\"_parent\"><img src=\"https://colab.research.google.com/assets/colab-badge.svg\" alt=\"Open In Colab\"/></a>"
      ]
    },
    {
      "cell_type": "markdown",
      "source": [
        "# Creating Human fake MNIST\n"
      ],
      "metadata": {
        "id": "e1HwUxtIZWZ9"
      }
    },
    {
      "cell_type": "code",
      "source": [
        "pip install cuda"
      ],
      "metadata": {
        "colab": {
          "base_uri": "https://localhost:8080/"
        },
        "id": "dKBlqWn1iOFv",
        "outputId": "3327532b-5500-4db7-ad22-eea57acbc935"
      },
      "execution_count": null,
      "outputs": [
        {
          "output_type": "stream",
          "name": "stdout",
          "text": [
            "Looking in indexes: https://pypi.org/simple, https://us-python.pkg.dev/colab-wheels/public/simple/\n",
            "\u001b[31mERROR: Could not find a version that satisfies the requirement cuda (from versions: none)\u001b[0m\n",
            "\u001b[31mERROR: No matching distribution found for cuda\u001b[0m\n"
          ]
        }
      ]
    },
    {
      "cell_type": "code",
      "source": [
        "import torch\n",
        "from torch import nn\n",
        "\n",
        "import math\n",
        "import matplotlib.pyplot as plt\n",
        "import torchvision\n",
        "import torchvision.transforms as transforms"
      ],
      "metadata": {
        "id": "ysta4tg9kFm_"
      },
      "execution_count": null,
      "outputs": []
    },
    {
      "cell_type": "code",
      "source": [
        "torch.manual_seed(111)\n"
      ],
      "metadata": {
        "colab": {
          "base_uri": "https://localhost:8080/"
        },
        "id": "pXuxdCIasFOR",
        "outputId": "b923cd19-f060-44bf-b558-cb58736cb577"
      },
      "execution_count": null,
      "outputs": [
        {
          "output_type": "execute_result",
          "data": {
            "text/plain": [
              "<torch._C.Generator at 0x7efc6eccc110>"
            ]
          },
          "metadata": {},
          "execution_count": 74
        }
      ]
    },
    {
      "cell_type": "markdown",
      "source": [
        "**Used to make the training easier**"
      ],
      "metadata": {
        "id": "JwSxB2iSsK1y"
      }
    },
    {
      "cell_type": "code",
      "source": [
        "print(f\"Is CUDA supported by this system? {torch.cuda.is_available()}\")\n"
      ],
      "metadata": {
        "colab": {
          "base_uri": "https://localhost:8080/"
        },
        "id": "CFnKR3y-sGXH",
        "outputId": "273b6f8d-0ea7-44b1-fd4d-9dc50a83a7c2"
      },
      "execution_count": null,
      "outputs": [
        {
          "output_type": "stream",
          "name": "stdout",
          "text": [
            "Is CUDA supported by this system? False\n"
          ]
        }
      ]
    },
    {
      "cell_type": "code",
      "source": [
        "device = \"\"\n",
        "if torch.cuda.is_available():\n",
        "    device = torch.device(\"cuda\")\n",
        "else:\n",
        "    device = torch.device(\"cpu\")\n",
        "print(device)"
      ],
      "metadata": {
        "colab": {
          "base_uri": "https://localhost:8080/"
        },
        "id": "juFFJqhxsTMA",
        "outputId": "426e1a07-8ec9-462a-eb67-80e0307999be"
      },
      "execution_count": null,
      "outputs": [
        {
          "output_type": "stream",
          "name": "stdout",
          "text": [
            "cpu\n"
          ]
        }
      ]
    },
    {
      "cell_type": "code",
      "source": [
        "transform = transforms.Compose(\n",
        "    [transforms.ToTensor(), transforms.Normalize((0.5,), (0.5,))]\n",
        ")"
      ],
      "metadata": {
        "id": "S7YGfXnKsW3p"
      },
      "execution_count": null,
      "outputs": []
    },
    {
      "cell_type": "code",
      "source": [
        "train_set = torchvision.datasets.MNIST(\n",
        "    root=\".\", train=True, download=True, transform=transform\n",
        ")\n"
      ],
      "metadata": {
        "id": "w-MEoyh6sZI4"
      },
      "execution_count": null,
      "outputs": []
    },
    {
      "cell_type": "code",
      "source": [
        "from torch.utils.data import DataLoader, TensorDataset\n",
        "batch_size = 32\n",
        "train_loader = torch.utils.data.DataLoader(\n",
        "    train_set, batch_size=batch_size, shuffle=True\n",
        ")"
      ],
      "metadata": {
        "id": "F1Id0giAsay5"
      },
      "execution_count": null,
      "outputs": []
    },
    {
      "cell_type": "code",
      "source": [
        "real_samples, mnist_labels = next(iter(train_loader))\n",
        "for i in range(16):\n",
        "    ax = plt.subplot(4, 4, i + 1)\n",
        "    plt.imshow(real_samples[i].reshape(28, 28), cmap=\"gray_r\")\n",
        "    plt.xticks([])\n",
        "    plt.yticks([])"
      ],
      "metadata": {
        "colab": {
          "base_uri": "https://localhost:8080/",
          "height": 252
        },
        "id": "lZNGoO9jsb8h",
        "outputId": "2a1b0fff-3f97-451b-dd52-7c8e9912ecc9"
      },
      "execution_count": null,
      "outputs": [
        {
          "output_type": "display_data",
          "data": {
            "text/plain": [
              "<Figure size 432x288 with 16 Axes>"
            ],
            "image/png": "[encoded data removed]"
          },
          "metadata": {}
        }
      ]
    },
    {
      "cell_type": "markdown",
      "source": [
        "# Here you will need to create your discriminator. Use the following functions:\n",
        "Linear, \n",
        "Relu, \n",
        "Dropout,\n",
        " with the final activation function being a sigmoid function from the torch.nn library.Consider using numbers in the range 256-1024 for your network."
      ],
      "metadata": {
        "id": "3PcCxX2Ssd2o"
      }
    },
    {
      "cell_type": "code",
      "source": [
        "#It’ll receive a sample from the real data or from the generator and will provide \n",
        "#the probability that the sample belongs to the real training data\n",
        "import torch.nn as nn\n",
        "import torch.nn.functional as F\n",
        "class Discriminator(nn.Module):\n",
        "\n",
        "    def __init__(self):\n",
        "\n",
        "        super().__init__()\n",
        "\n",
        "        self.model = nn.Sequential(\n",
        "            nn.Linear(784, 1008),\n",
        "            nn.ReLU(),\n",
        "            nn.Dropout(0.3),\n",
        "            nn.Linear(1008, 504),\n",
        "            nn.ReLU(),\n",
        "            nn.Dropout(0.3),\n",
        "            nn.Linear(504, 252),\n",
        "            nn.ReLU(),\n",
        "            nn.Dropout(0.3),\n",
        "            nn.Linear(252, 1),\n",
        "            nn.Sigmoid(),\n",
        "        )\n",
        "\n",
        "\n",
        "           \n",
        "\n",
        "    def forward(self, x):\n",
        "        x = x.view(x.size(0), 784)\n",
        "        output = self.model(x)\n",
        "        return output\n",
        "\n"
      ],
      "metadata": {
        "id": "nlhU6cqwsdjK"
      },
      "execution_count": null,
      "outputs": []
    },
    {
      "cell_type": "code",
      "source": [
        "discriminator = Discriminator().to(device=device)\n"
      ],
      "metadata": {
        "id": "08aQWgUDeltu"
      },
      "execution_count": null,
      "outputs": []
    },
    {
      "cell_type": "markdown",
      "source": [
        "**# Here you will need to create your discriminator. Use the following functions:Linear, Relu, Dropout with the final activation function being a hyperbolic Tangent(tanh) function from the torch.nn library. Consider using numbers in the range 256-1024 for your network.**"
      ],
      "metadata": {
        "id": "F4ng-MN6snMI"
      }
    },
    {
      "cell_type": "code",
      "source": [
        "class Generator(nn.Module):\n",
        "    def __init__(self):\n",
        "        super().__init__()\n",
        "        self.model = nn.Sequential(\n",
        "            nn.Linear(100, 252),\n",
        "            nn.ReLU(),\n",
        "            nn.Linear(252, 504),\n",
        "            nn.ReLU(),\n",
        "            nn.Linear(504, 1008),\n",
        "            nn.ReLU(),\n",
        "            nn.Linear(1008, 784),\n",
        "            nn.Tanh(),\n",
        "        )\n",
        "\n",
        "    def forward(self, x):\n",
        "        output = self.model(x)\n",
        "        output = output.view(x.size(0), 1, 28, 28)\n",
        "        return output\n",
        "\n",
        "generator = Generator().to(device=device)"
      ],
      "metadata": {
        "id": "-Bv7ugbcsq7B"
      },
      "execution_count": null,
      "outputs": []
    },
    {
      "cell_type": "markdown",
      "source": [
        "# Play around with the loss_function here, BCELoss from nn is used in the initial results below.\n"
      ],
      "metadata": {
        "id": "MkLeX7tbsx2o"
      }
    },
    {
      "cell_type": "code",
      "source": [
        "#Training the model\n",
        "lr = 0.0001\n",
        "num_epochs = 50\n",
        "loss_function = nn.BCELoss()\n",
        "\n",
        "optimizer_discriminator = torch.optim.Adam(discriminator.parameters(), lr=lr)\n",
        "optimizer_generator = torch.optim.Adam(generator.parameters(), lr=lr)"
      ],
      "metadata": {
        "id": "jf_DsZsis02w"
      },
      "execution_count": null,
      "outputs": []
    },
    {
      "cell_type": "markdown",
      "source": [
        "**# Below you will need to check the module library as well as the optim library and the nn documentation for whatever loss function you choose to use. When training either the discriminator or the generator, you will need to first need to use a built in module function to set the gradients to zero. Next you will need to use the discriminator object we built earlier on the samples. Finally you will need to use the loss function to initialize the loss discriminator using the output of the discriminator and the true value labels. Finally you can use the backward() function built into the loss function followed by a step on the optimizer. You will need to do the same on the generator using the latent_space_samples but this time you will have to compare your performance against the discriminator creating your own output. From here this created output can be compared against the real_samples_labels. Againt repeat what you did in the previously with the generator, but with the relavent parts for the optimizer.Finally when you choose to train I would recommend using low Epoch number (especially if not using cuda) to see what your initial results are. You do not need to train as long as only have similar output to what I have below.**"
      ],
      "metadata": {
        "id": "2XM9VviptqGH"
      }
    },
    {
      "cell_type": "code",
      "source": [
        "for epoch in range(num_epochs):\n",
        "    for n, (real_samples, mnist_labels) in enumerate(train_loader):\n",
        "        # Data for training the discriminator\n",
        "        real_samples = real_samples.to(device=device)\n",
        "        real_samples_labels = torch.ones((batch_size, 1)).to(device=device)\n",
        "        latent_space_samples = torch.randn((batch_size, 100)).to(device=device)\n",
        "        generated_samples = generator(latent_space_samples)\n",
        "        generated_samples_labels = torch.zeros((batch_size, 1)).to(device=device)\n",
        "        all_samples = torch.cat((real_samples, generated_samples))\n",
        "        all_samples_labels = torch.cat((real_samples_labels, generated_samples_labels))\n",
        "\n",
        "        # Training the discriminator\n",
        "        discriminator.zero_grad()\n",
        "        output_discriminator = discriminator(all_samples)\n",
        "        loss_discriminator = loss_function(output_discriminator, all_samples_labels)\n",
        "        loss_discriminator.backward()\n",
        "        optimizer_discriminator.step()\n",
        "\n",
        "        \n",
        "        # Data for training the generator\n",
        "        latent_space_samples = torch.randn((batch_size, 100)).to(device=device)\n",
        "\n",
        "        # Training the generator\n",
        "        generator.zero_grad()\n",
        "        generated_samples = generator(latent_space_samples)\n",
        "        output_discriminator_generated = discriminator(generated_samples)\n",
        "        loss_generator = loss_function(output_discriminator_generated, real_samples_labels)\n",
        "        loss_generator.backward()\n",
        "        optimizer_generator.step()\n",
        "\n",
        "        # Show loss\n",
        "        if n == batch_size - 1:\n",
        "            print(f\"Epoch: {epoch} Loss D.: {loss_discriminator}\")\n",
        "            print(f\"Epoch: {epoch} Loss G.: {loss_generator}\")"
      ],
      "metadata": {
        "colab": {
          "base_uri": "https://localhost:8080/"
        },
        "id": "vPq8eNqbRGvf",
        "outputId": "fed244cb-9b19-4f27-bfd6-74b0f50813d6"
      },
      "execution_count": null,
      "outputs": [
        {
          "output_type": "stream",
          "name": "stdout",
          "text": [
            "Epoch: 0 Loss D.: 0.5506299734115601\n",
            "Epoch: 0 Loss G.: 0.5121522545814514\n",
            "Epoch: 1 Loss D.: 0.046128906309604645\n",
            "Epoch: 1 Loss G.: 5.608469009399414\n",
            "Epoch: 2 Loss D.: 0.0440811812877655\n",
            "Epoch: 2 Loss G.: 6.661592960357666\n",
            "Epoch: 3 Loss D.: 0.016483211889863014\n",
            "Epoch: 3 Loss G.: 5.068192481994629\n",
            "Epoch: 4 Loss D.: 0.07379155606031418\n",
            "Epoch: 4 Loss G.: 3.8036739826202393\n",
            "Epoch: 5 Loss D.: 0.07140863686800003\n",
            "Epoch: 5 Loss G.: 4.759384632110596\n",
            "Epoch: 6 Loss D.: 0.13241565227508545\n",
            "Epoch: 6 Loss G.: 3.2509307861328125\n",
            "Epoch: 7 Loss D.: 0.21902629733085632\n",
            "Epoch: 7 Loss G.: 2.0712764263153076\n",
            "Epoch: 8 Loss D.: 0.31102290749549866\n",
            "Epoch: 8 Loss G.: 2.5177736282348633\n",
            "Epoch: 9 Loss D.: 0.26867273449897766\n",
            "Epoch: 9 Loss G.: 1.7843003273010254\n",
            "Epoch: 10 Loss D.: 0.25577157735824585\n",
            "Epoch: 10 Loss G.: 1.666706919670105\n",
            "Epoch: 11 Loss D.: 0.46188491582870483\n",
            "Epoch: 11 Loss G.: 1.4479992389678955\n",
            "Epoch: 12 Loss D.: 0.37228602170944214\n",
            "Epoch: 12 Loss G.: 1.5579607486724854\n",
            "Epoch: 13 Loss D.: 0.40094438195228577\n",
            "Epoch: 13 Loss G.: 1.5892611742019653\n",
            "Epoch: 14 Loss D.: 0.5489401817321777\n",
            "Epoch: 14 Loss G.: 1.415600061416626\n",
            "Epoch: 15 Loss D.: 0.357795774936676\n",
            "Epoch: 15 Loss G.: 1.5586448907852173\n",
            "Epoch: 16 Loss D.: 0.3798156976699829\n",
            "Epoch: 16 Loss G.: 1.499664306640625\n",
            "Epoch: 17 Loss D.: 0.35809624195098877\n",
            "Epoch: 17 Loss G.: 1.3154748678207397\n",
            "Epoch: 18 Loss D.: 0.45449233055114746\n",
            "Epoch: 18 Loss G.: 1.735693097114563\n",
            "Epoch: 19 Loss D.: 0.5245851278305054\n",
            "Epoch: 19 Loss G.: 1.4645369052886963\n",
            "Epoch: 20 Loss D.: 0.3880314826965332\n",
            "Epoch: 20 Loss G.: 1.4057027101516724\n",
            "Epoch: 21 Loss D.: 0.47359752655029297\n",
            "Epoch: 21 Loss G.: 1.308720588684082\n",
            "Epoch: 22 Loss D.: 0.4444490373134613\n",
            "Epoch: 22 Loss G.: 1.4392470121383667\n",
            "Epoch: 23 Loss D.: 0.4524497091770172\n",
            "Epoch: 23 Loss G.: 1.0839916467666626\n",
            "Epoch: 24 Loss D.: 0.41273194551467896\n",
            "Epoch: 24 Loss G.: 1.3516755104064941\n",
            "Epoch: 25 Loss D.: 0.4797130227088928\n",
            "Epoch: 25 Loss G.: 1.294295310974121\n",
            "Epoch: 26 Loss D.: 0.49790143966674805\n",
            "Epoch: 26 Loss G.: 1.2185261249542236\n",
            "Epoch: 27 Loss D.: 0.5280458331108093\n",
            "Epoch: 27 Loss G.: 1.198423147201538\n",
            "Epoch: 28 Loss D.: 0.5922237038612366\n",
            "Epoch: 28 Loss G.: 1.1255971193313599\n",
            "Epoch: 29 Loss D.: 0.5772901773452759\n",
            "Epoch: 29 Loss G.: 1.0477558374404907\n",
            "Epoch: 30 Loss D.: 0.5695914030075073\n",
            "Epoch: 30 Loss G.: 1.148091435432434\n",
            "Epoch: 31 Loss D.: 0.562000036239624\n",
            "Epoch: 31 Loss G.: 1.3252873420715332\n",
            "Epoch: 32 Loss D.: 0.539086639881134\n",
            "Epoch: 32 Loss G.: 1.1117316484451294\n",
            "Epoch: 33 Loss D.: 0.5717511177062988\n",
            "Epoch: 33 Loss G.: 1.1097509860992432\n",
            "Epoch: 34 Loss D.: 0.5434368848800659\n",
            "Epoch: 34 Loss G.: 0.9978931546211243\n",
            "Epoch: 35 Loss D.: 0.5781635046005249\n",
            "Epoch: 35 Loss G.: 1.2602611780166626\n",
            "Epoch: 36 Loss D.: 0.4891098439693451\n",
            "Epoch: 36 Loss G.: 1.355035424232483\n",
            "Epoch: 37 Loss D.: 0.5403693318367004\n",
            "Epoch: 37 Loss G.: 1.1707884073257446\n",
            "Epoch: 38 Loss D.: 0.6131848096847534\n",
            "Epoch: 38 Loss G.: 1.1103794574737549\n",
            "Epoch: 39 Loss D.: 0.43992307782173157\n",
            "Epoch: 39 Loss G.: 1.2724577188491821\n",
            "Epoch: 40 Loss D.: 0.42106881737709045\n",
            "Epoch: 40 Loss G.: 1.1270098686218262\n",
            "Epoch: 41 Loss D.: 0.5008054971694946\n",
            "Epoch: 41 Loss G.: 1.056721568107605\n",
            "Epoch: 42 Loss D.: 0.5718719959259033\n",
            "Epoch: 42 Loss G.: 1.3037172555923462\n",
            "Epoch: 43 Loss D.: 0.5343952775001526\n",
            "Epoch: 43 Loss G.: 1.0611282587051392\n",
            "Epoch: 44 Loss D.: 0.6155411005020142\n",
            "Epoch: 44 Loss G.: 0.9198675751686096\n",
            "Epoch: 45 Loss D.: 0.4647761285305023\n",
            "Epoch: 45 Loss G.: 0.9689168930053711\n",
            "Epoch: 46 Loss D.: 0.5637248754501343\n",
            "Epoch: 46 Loss G.: 0.9652398824691772\n",
            "Epoch: 47 Loss D.: 0.5040355920791626\n",
            "Epoch: 47 Loss G.: 1.1361666917800903\n",
            "Epoch: 48 Loss D.: 0.5835897922515869\n",
            "Epoch: 48 Loss G.: 1.0361899137496948\n",
            "Epoch: 49 Loss D.: 0.5950976014137268\n",
            "Epoch: 49 Loss G.: 1.0735195875167847\n"
          ]
        }
      ]
    },
    {
      "cell_type": "code",
      "source": [
        "latent_space_samples = torch.randn(batch_size, 100).to(device=device)\n",
        "generated_samples = generator(latent_space_samples)"
      ],
      "metadata": {
        "id": "Xc6AkdmDucwH"
      },
      "execution_count": null,
      "outputs": []
    },
    {
      "cell_type": "markdown",
      "source": [
        "# **Make sure your output is something like what is below and you should be good.**"
      ],
      "metadata": {
        "id": "UxwEpJMQuiRZ"
      }
    },
    {
      "cell_type": "code",
      "source": [
        "generated_samples = generated_samples.cpu().detach()\n",
        "for i in range(16):\n",
        "    ax = plt.subplot(4, 4, i + 1)\n",
        "    plt.imshow(generated_samples[i].reshape(28, 28), cmap=\"gray_r\")\n",
        "    plt.xticks([])\n",
        "    plt.yticks([])"
      ],
      "metadata": {
        "id": "2q0U8wvaugKS",
        "colab": {
          "base_uri": "https://localhost:8080/",
          "height": 252
        },
        "outputId": "abee546b-a17f-4298-ebd1-46e658709567"
      },
      "execution_count": null,
      "outputs": [
        {
          "output_type": "display_data",
          "data": {
            "text/plain": [
              "<Figure size 432x288 with 16 Axes>"
            ],
            "image/png": "[encoded data removed]"
          },
          "metadata": {}
        }
      ]
    }
  ]
}