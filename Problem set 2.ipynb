{
 "cells": [
  {
   "cell_type": "code",
   "execution_count": 1,
   "id": "580a6fc2",
   "metadata": {},
   "outputs": [
    {
     "name": "stdout",
     "output_type": "stream",
     "text": [
      "Collecting ortools\n",
      "  Downloading ortools-9.5.2237-cp39-cp39-macosx_10_15_x86_64.whl (13.1 MB)\n",
      "\u001b[2K     \u001b[90m━━━━━━━━━━━━━━━━━━━━━━━━━━━━━━━━━━━━━━━━\u001b[0m \u001b[32m13.1/13.1 MB\u001b[0m \u001b[31m12.0 MB/s\u001b[0m eta \u001b[36m0:00:00\u001b[0m00:01\u001b[0m00:01\u001b[0m\n",
      "\u001b[?25hCollecting protobuf>=4.21.5\n",
      "  Downloading protobuf-4.22.0-cp37-abi3-macosx_10_9_universal2.whl (397 kB)\n",
      "\u001b[2K     \u001b[90m━━━━━━━━━━━━━━━━━━━━━━━━━━━━━━━━━━━━━━\u001b[0m \u001b[32m397.2/397.2 kB\u001b[0m \u001b[31m16.6 MB/s\u001b[0m eta \u001b[36m0:00:00\u001b[0m\n",
      "\u001b[?25hCollecting absl-py>=0.13\n",
      "  Downloading absl_py-1.4.0-py3-none-any.whl (126 kB)\n",
      "\u001b[2K     \u001b[90m━━━━━━━━━━━━━━━━━━━━━━━━━━━━━━━━━━━━━━━\u001b[0m \u001b[32m126.5/126.5 kB\u001b[0m \u001b[31m6.4 MB/s\u001b[0m eta \u001b[36m0:00:00\u001b[0m\n",
      "\u001b[?25hRequirement already satisfied: numpy>=1.13.3 in /Users/JumpMan/opt/anaconda3/lib/python3.9/site-packages (from ortools) (1.21.5)\n",
      "Installing collected packages: protobuf, absl-py, ortools\n",
      "Successfully installed absl-py-1.4.0 ortools-9.5.2237 protobuf-4.22.0\n"
     ]
    }
   ],
   "source": [
    "!pip install ortools"
   ]
  },
  {
   "cell_type": "code",
   "execution_count": null,
   "id": "e35b99e2",
   "metadata": {},
   "outputs": [],
   "source": []
  },
  {
   "cell_type": "code",
   "execution_count": 36,
   "id": "6e773a78",
   "metadata": {},
   "outputs": [
    {
     "name": "stdout",
     "output_type": "stream",
     "text": [
      "*Solution for Problem A: [1, 1, 1, 1, 1, 1]\n",
      "nva for Problem A: 6\n",
      "*Solution for Problem B: [1, 1, 1, 1, 1, 1, 1, 1, 1, 1]\n",
      "Number of variable assignments for Problem B: 10\n"
     ]
    },
    {
     "ename": "TypeError",
     "evalue": "'IntExpr' object is not callable",
     "output_type": "error",
     "traceback": [
      "\u001b[0;31m---------------------------------------------------------------------------\u001b[0m",
      "\u001b[0;31mTypeError\u001b[0m                                 Traceback (most recent call last)",
      "\u001b[0;32m/var/folders/bf/4lyx7mbx6_x3y4pb5d93fm7h0000gp/T/ipykernel_61243/2645595629.py\u001b[0m in \u001b[0;36m<module>\u001b[0;34m\u001b[0m\n\u001b[1;32m     83\u001b[0m \u001b[0;34m\u001b[0m\u001b[0m\n\u001b[1;32m     84\u001b[0m \u001b[0;31m# Solve Problem B\u001b[0m\u001b[0;34m\u001b[0m\u001b[0;34m\u001b[0m\u001b[0m\n\u001b[0;32m---> 85\u001b[0;31m \u001b[0msolutionC\u001b[0m\u001b[0;34m,\u001b[0m \u001b[0mnvaC\u001b[0m \u001b[0;34m=\u001b[0m \u001b[0msolveProblem\u001b[0m\u001b[0;34m(\u001b[0m\u001b[0mrange\u001b[0m\u001b[0;34m(\u001b[0m\u001b[0;36m16\u001b[0m\u001b[0;34m)\u001b[0m\u001b[0;34m,\u001b[0m \u001b[0mconstraintsC\u001b[0m\u001b[0;34m,\u001b[0m \u001b[0;34m[\u001b[0m\u001b[0;34m]\u001b[0m\u001b[0;34m,\u001b[0m \u001b[0;34m\"Problem C\"\u001b[0m\u001b[0;34m)\u001b[0m\u001b[0;34m\u001b[0m\u001b[0;34m\u001b[0m\u001b[0m\n\u001b[0m\u001b[1;32m     86\u001b[0m \u001b[0;32mif\u001b[0m \u001b[0msolutionC\u001b[0m \u001b[0;32mis\u001b[0m \u001b[0;32mNone\u001b[0m\u001b[0;34m:\u001b[0m\u001b[0;34m\u001b[0m\u001b[0;34m\u001b[0m\u001b[0m\n\u001b[1;32m     87\u001b[0m     \u001b[0mprint\u001b[0m\u001b[0;34m(\u001b[0m\u001b[0;34m\"*No solution exists for Problem C\"\u001b[0m\u001b[0;34m)\u001b[0m\u001b[0;34m\u001b[0m\u001b[0;34m\u001b[0m\u001b[0m\n",
      "\u001b[0;32m/var/folders/bf/4lyx7mbx6_x3y4pb5d93fm7h0000gp/T/ipykernel_61243/2645595629.py\u001b[0m in \u001b[0;36msolveProblem\u001b[0;34m(problem, constraints, vconstraints, problemName)\u001b[0m\n\u001b[1;32m     10\u001b[0m     \u001b[0mproblemVars\u001b[0m \u001b[0;34m=\u001b[0m \u001b[0;34m[\u001b[0m\u001b[0msolver\u001b[0m\u001b[0;34m.\u001b[0m\u001b[0mIntVar\u001b[0m\u001b[0;34m(\u001b[0m\u001b[0;36m1\u001b[0m\u001b[0;34m,\u001b[0m \u001b[0;36m125\u001b[0m\u001b[0;34m,\u001b[0m \u001b[0;34mf\"X{i+1}\"\u001b[0m\u001b[0;34m)\u001b[0m \u001b[0;32mfor\u001b[0m \u001b[0mi\u001b[0m \u001b[0;32min\u001b[0m \u001b[0mrange\u001b[0m\u001b[0;34m(\u001b[0m\u001b[0mlen\u001b[0m\u001b[0;34m(\u001b[0m\u001b[0mproblem\u001b[0m\u001b[0;34m)\u001b[0m\u001b[0;34m)\u001b[0m\u001b[0;34m]\u001b[0m\u001b[0;34m\u001b[0m\u001b[0;34m\u001b[0m\u001b[0m\n\u001b[1;32m     11\u001b[0m     \u001b[0;31m# Create constraints using the provided constraint functions and add them to a list\u001b[0m\u001b[0;34m\u001b[0m\u001b[0;34m\u001b[0m\u001b[0m\n\u001b[0;32m---> 12\u001b[0;31m     \u001b[0mconstraintVars\u001b[0m \u001b[0;34m=\u001b[0m \u001b[0;34m[\u001b[0m\u001b[0mc\u001b[0m\u001b[0;34m(\u001b[0m\u001b[0msolver\u001b[0m\u001b[0;34m,\u001b[0m \u001b[0mproblemVars\u001b[0m\u001b[0;34m)\u001b[0m \u001b[0;32mfor\u001b[0m \u001b[0mc\u001b[0m \u001b[0;32min\u001b[0m \u001b[0mconstraints\u001b[0m\u001b[0;34m]\u001b[0m \u001b[0;34m+\u001b[0m \u001b[0;34m[\u001b[0m\u001b[0mvc\u001b[0m \u001b[0;32mfor\u001b[0m \u001b[0mvc\u001b[0m \u001b[0;32min\u001b[0m \u001b[0mvconstraints\u001b[0m\u001b[0;34m]\u001b[0m\u001b[0;34m\u001b[0m\u001b[0;34m\u001b[0m\u001b[0m\n\u001b[0m\u001b[1;32m     13\u001b[0m     \u001b[0;31m# Call getSolution function to solve problem and return the solution and the number of variable assignments\u001b[0m\u001b[0;34m\u001b[0m\u001b[0;34m\u001b[0m\u001b[0m\n\u001b[1;32m     14\u001b[0m     \u001b[0msolution\u001b[0m\u001b[0;34m,\u001b[0m \u001b[0mnva\u001b[0m \u001b[0;34m=\u001b[0m \u001b[0mgetSolution\u001b[0m\u001b[0;34m(\u001b[0m\u001b[0mproblemVars\u001b[0m\u001b[0;34m,\u001b[0m \u001b[0mconstraintVars\u001b[0m\u001b[0;34m,\u001b[0m \u001b[0mvconstraints\u001b[0m\u001b[0;34m)\u001b[0m\u001b[0;34m\u001b[0m\u001b[0;34m\u001b[0m\u001b[0m\n",
      "\u001b[0;32m/var/folders/bf/4lyx7mbx6_x3y4pb5d93fm7h0000gp/T/ipykernel_61243/2645595629.py\u001b[0m in \u001b[0;36m<listcomp>\u001b[0;34m(.0)\u001b[0m\n\u001b[1;32m     10\u001b[0m     \u001b[0mproblemVars\u001b[0m \u001b[0;34m=\u001b[0m \u001b[0;34m[\u001b[0m\u001b[0msolver\u001b[0m\u001b[0;34m.\u001b[0m\u001b[0mIntVar\u001b[0m\u001b[0;34m(\u001b[0m\u001b[0;36m1\u001b[0m\u001b[0;34m,\u001b[0m \u001b[0;36m125\u001b[0m\u001b[0;34m,\u001b[0m \u001b[0;34mf\"X{i+1}\"\u001b[0m\u001b[0;34m)\u001b[0m \u001b[0;32mfor\u001b[0m \u001b[0mi\u001b[0m \u001b[0;32min\u001b[0m \u001b[0mrange\u001b[0m\u001b[0;34m(\u001b[0m\u001b[0mlen\u001b[0m\u001b[0;34m(\u001b[0m\u001b[0mproblem\u001b[0m\u001b[0;34m)\u001b[0m\u001b[0;34m)\u001b[0m\u001b[0;34m]\u001b[0m\u001b[0;34m\u001b[0m\u001b[0;34m\u001b[0m\u001b[0m\n\u001b[1;32m     11\u001b[0m     \u001b[0;31m# Create constraints using the provided constraint functions and add them to a list\u001b[0m\u001b[0;34m\u001b[0m\u001b[0;34m\u001b[0m\u001b[0m\n\u001b[0;32m---> 12\u001b[0;31m     \u001b[0mconstraintVars\u001b[0m \u001b[0;34m=\u001b[0m \u001b[0;34m[\u001b[0m\u001b[0mc\u001b[0m\u001b[0;34m(\u001b[0m\u001b[0msolver\u001b[0m\u001b[0;34m,\u001b[0m \u001b[0mproblemVars\u001b[0m\u001b[0;34m)\u001b[0m \u001b[0;32mfor\u001b[0m \u001b[0mc\u001b[0m \u001b[0;32min\u001b[0m \u001b[0mconstraints\u001b[0m\u001b[0;34m]\u001b[0m \u001b[0;34m+\u001b[0m \u001b[0;34m[\u001b[0m\u001b[0mvc\u001b[0m \u001b[0;32mfor\u001b[0m \u001b[0mvc\u001b[0m \u001b[0;32min\u001b[0m \u001b[0mvconstraints\u001b[0m\u001b[0;34m]\u001b[0m\u001b[0;34m\u001b[0m\u001b[0;34m\u001b[0m\u001b[0m\n\u001b[0m\u001b[1;32m     13\u001b[0m     \u001b[0;31m# Call getSolution function to solve problem and return the solution and the number of variable assignments\u001b[0m\u001b[0;34m\u001b[0m\u001b[0;34m\u001b[0m\u001b[0m\n\u001b[1;32m     14\u001b[0m     \u001b[0msolution\u001b[0m\u001b[0;34m,\u001b[0m \u001b[0mnva\u001b[0m \u001b[0;34m=\u001b[0m \u001b[0mgetSolution\u001b[0m\u001b[0;34m(\u001b[0m\u001b[0mproblemVars\u001b[0m\u001b[0;34m,\u001b[0m \u001b[0mconstraintVars\u001b[0m\u001b[0;34m,\u001b[0m \u001b[0mvconstraints\u001b[0m\u001b[0;34m)\u001b[0m\u001b[0;34m\u001b[0m\u001b[0;34m\u001b[0m\u001b[0m\n",
      "\u001b[0;32m/var/folders/bf/4lyx7mbx6_x3y4pb5d93fm7h0000gp/T/ipykernel_61243/2645595629.py\u001b[0m in \u001b[0;36m<lambda>\u001b[0;34m(solver, X)\u001b[0m\n\u001b[1;32m     55\u001b[0m constraintsC = [\n\u001b[1;32m     56\u001b[0m     \u001b[0;32mlambda\u001b[0m \u001b[0msolver\u001b[0m\u001b[0;34m,\u001b[0m \u001b[0mX\u001b[0m\u001b[0;34m:\u001b[0m \u001b[0msolver\u001b[0m\u001b[0;34m.\u001b[0m\u001b[0mAdd\u001b[0m\u001b[0;34m(\u001b[0m\u001b[0;36m2\u001b[0m\u001b[0;34m*\u001b[0m\u001b[0mX\u001b[0m\u001b[0;34m[\u001b[0m\u001b[0;36m4\u001b[0m\u001b[0;34m]\u001b[0m \u001b[0;34m==\u001b[0m \u001b[0mX\u001b[0m\u001b[0;34m[\u001b[0m\u001b[0;36m3\u001b[0m\u001b[0;34m]\u001b[0m\u001b[0;34m*\u001b[0m\u001b[0mX\u001b[0m\u001b[0;34m[\u001b[0m\u001b[0;36m3\u001b[0m\u001b[0;34m]\u001b[0m \u001b[0;34m-\u001b[0m \u001b[0mX\u001b[0m\u001b[0;34m[\u001b[0m\u001b[0;36m0\u001b[0m\u001b[0;34m]\u001b[0m\u001b[0;34m*\u001b[0m\u001b[0;36m8\u001b[0m\u001b[0;34m)\u001b[0m\u001b[0;34m,\u001b[0m\u001b[0;34m\u001b[0m\u001b[0;34m\u001b[0m\u001b[0m\n\u001b[0;32m---> 57\u001b[0;31m     \u001b[0;32mlambda\u001b[0m \u001b[0msolver\u001b[0m\u001b[0;34m,\u001b[0m \u001b[0mX\u001b[0m\u001b[0;34m:\u001b[0m \u001b[0msolver\u001b[0m\u001b[0;34m.\u001b[0m\u001b[0mAdd\u001b[0m\u001b[0;34m(\u001b[0m\u001b[0;34m(\u001b[0m\u001b[0mX\u001b[0m\u001b[0;34m[\u001b[0m\u001b[0;36m2\u001b[0m\u001b[0;34m]\u001b[0m\u001b[0;34m-\u001b[0m\u001b[0mX\u001b[0m\u001b[0;34m[\u001b[0m\u001b[0;36m3\u001b[0m\u001b[0;34m]\u001b[0m\u001b[0;34m)\u001b[0m\u001b[0;34m(\u001b[0m\u001b[0mX\u001b[0m\u001b[0;34m[\u001b[0m\u001b[0;36m2\u001b[0m\u001b[0;34m]\u001b[0m\u001b[0;34m-\u001b[0m\u001b[0mX\u001b[0m\u001b[0;34m[\u001b[0m\u001b[0;36m3\u001b[0m\u001b[0;34m]\u001b[0m\u001b[0;34m)\u001b[0m \u001b[0;34m==\u001b[0m \u001b[0mX\u001b[0m\u001b[0;34m[\u001b[0m\u001b[0;36m5\u001b[0m\u001b[0;34m]\u001b[0m\u001b[0;34m*\u001b[0m\u001b[0mX\u001b[0m\u001b[0;34m[\u001b[0m\u001b[0;36m3\u001b[0m\u001b[0;34m]\u001b[0m\u001b[0;34m*\u001b[0m\u001b[0;36m2\u001b[0m \u001b[0;34m+\u001b[0m \u001b[0;36m360\u001b[0m\u001b[0;34m)\u001b[0m\u001b[0;34m,\u001b[0m\u001b[0;34m\u001b[0m\u001b[0;34m\u001b[0m\u001b[0m\n\u001b[0m\u001b[1;32m     58\u001b[0m     \u001b[0;32mlambda\u001b[0m \u001b[0msolver\u001b[0m\u001b[0;34m,\u001b[0m \u001b[0mX\u001b[0m\u001b[0;34m:\u001b[0m \u001b[0msolver\u001b[0m\u001b[0;34m.\u001b[0m\u001b[0mAdd\u001b[0m\u001b[0;34m(\u001b[0m\u001b[0mX\u001b[0m\u001b[0;34m[\u001b[0m\u001b[0;36m2\u001b[0m\u001b[0;34m]\u001b[0m\u001b[0;34m*\u001b[0m\u001b[0mX\u001b[0m\u001b[0;34m[\u001b[0m\u001b[0;36m2\u001b[0m\u001b[0;34m]\u001b[0m \u001b[0;34m-\u001b[0m \u001b[0;36m135\u001b[0m \u001b[0;34m==\u001b[0m \u001b[0mX\u001b[0m\u001b[0;34m[\u001b[0m\u001b[0;36m4\u001b[0m\u001b[0;34m]\u001b[0m\u001b[0;34m*\u001b[0m\u001b[0mX\u001b[0m\u001b[0;34m[\u001b[0m\u001b[0;36m1\u001b[0m\u001b[0;34m]\u001b[0m \u001b[0;34m+\u001b[0m \u001b[0mX\u001b[0m\u001b[0;34m[\u001b[0m\u001b[0;36m0\u001b[0m\u001b[0;34m]\u001b[0m\u001b[0;34m*\u001b[0m\u001b[0mX\u001b[0m\u001b[0;34m[\u001b[0m\u001b[0;36m0\u001b[0m\u001b[0;34m]\u001b[0m\u001b[0;34m)\u001b[0m\u001b[0;34m,\u001b[0m\u001b[0;34m\u001b[0m\u001b[0;34m\u001b[0m\u001b[0m\n\u001b[1;32m     59\u001b[0m     \u001b[0;32mlambda\u001b[0m \u001b[0msolver\u001b[0m\u001b[0;34m,\u001b[0m \u001b[0mX\u001b[0m\u001b[0;34m:\u001b[0m \u001b[0msolver\u001b[0m\u001b[0;34m.\u001b[0m\u001b[0mAdd\u001b[0m\u001b[0;34m(\u001b[0m\u001b[0;34m(\u001b[0m\u001b[0mX\u001b[0m\u001b[0;34m[\u001b[0m\u001b[0;36m6\u001b[0m\u001b[0;34m]\u001b[0m\u001b[0;34m+\u001b[0m\u001b[0mX\u001b[0m\u001b[0;34m[\u001b[0m\u001b[0;36m2\u001b[0m\u001b[0;34m]\u001b[0m\u001b[0;34m)\u001b[0m\u001b[0;34m(\u001b[0m\u001b[0mX\u001b[0m\u001b[0;34m[\u001b[0m\u001b[0;36m6\u001b[0m\u001b[0;34m]\u001b[0m\u001b[0;34m+\u001b[0m\u001b[0mX\u001b[0m\u001b[0;34m[\u001b[0m\u001b[0;36m2\u001b[0m\u001b[0;34m]\u001b[0m\u001b[0;34m)\u001b[0m \u001b[0;34m+\u001b[0m \u001b[0;36m445\u001b[0m \u001b[0;34m==\u001b[0m \u001b[0;34m(\u001b[0m\u001b[0mX\u001b[0m\u001b[0;34m[\u001b[0m\u001b[0;36m1\u001b[0m\u001b[0;34m]\u001b[0m\u001b[0;34m+\u001b[0m\u001b[0mX\u001b[0m\u001b[0;34m[\u001b[0m\u001b[0;36m5\u001b[0m\u001b[0;34m]\u001b[0m\u001b[0;34m)\u001b[0m\u001b[0;34m(\u001b[0m\u001b[0mX\u001b[0m\u001b[0;34m[\u001b[0m\u001b[0;36m3\u001b[0m\u001b[0;34m]\u001b[0m\u001b[0;34m+\u001b[0m\u001b[0mX\u001b[0m\u001b[0;34m[\u001b[0m\u001b[0;36m4\u001b[0m\u001b[0;34m]\u001b[0m\u001b[0;34m+\u001b[0m\u001b[0mX\u001b[0m\u001b[0;34m[\u001b[0m\u001b[0;36m2\u001b[0m\u001b[0;34m]\u001b[0m\u001b[0;34m+\u001b[0m\u001b[0mX\u001b[0m\u001b[0;34m[\u001b[0m\u001b[0;36m6\u001b[0m\u001b[0;34m]\u001b[0m\u001b[0;34m*\u001b[0m\u001b[0mX\u001b[0m\u001b[0;34m[\u001b[0m\u001b[0;36m0\u001b[0m\u001b[0;34m]\u001b[0m\u001b[0;34m)\u001b[0m\u001b[0;34m)\u001b[0m\u001b[0;34m,\u001b[0m\u001b[0;34m\u001b[0m\u001b[0;34m\u001b[0m\u001b[0m\n",
      "\u001b[0;31mTypeError\u001b[0m: 'IntExpr' object is not callable"
     ]
    }
   ],
   "source": [
    "# Import required libraries\n",
    "from ortools.constraint_solver import pywrapcp\n",
    "import csv\n",
    "\n",
    "# Define function to solve problem using OR-Tools constraint solver\n",
    "def solveProblem(problem, constraints, vconstraints, problemName):\n",
    "    # Initialize OR-Tools solver\n",
    "    solver = pywrapcp.Solver(problemName)\n",
    "    # Create variables for the problem using IntVar method\n",
    "    problemVars = [solver.IntVar(1, 125, f\"X{i+1}\") for i in range(len(problem))]\n",
    "    # Create constraints using the provided constraint functions and add them to a list\n",
    "    constraintVars = [c(solver, problemVars) for c in constraints] + [vc for vc in vconstraints]\n",
    "    # Call getSolution function to solve problem and return the solution and the number of variable assignments\n",
    "    solution, nva = getSolution(problemVars, constraintVars, vconstraints)\n",
    "    # Return the solution and the number of variable assignments\n",
    "    return solution, nva\n",
    "\n",
    "# Define function to solve the problem using OR-Tools and return the solution and the number of variable assignments\n",
    "def getSolution(problem, constraints, vconstraints):\n",
    "    # Initialize OR-Tools solver\n",
    "    solver = pywrapcp.Solver(\"Solver\")\n",
    "    # Define the search strategy as choosing the first unbound variable and assigning the minimum value\n",
    "    db = solver.Phase(problem, solver.CHOOSE_FIRST_UNBOUND, solver.ASSIGN_MIN_VALUE)\n",
    "    # Start a new search with the defined search strategy\n",
    "    solver.NewSearch(db)\n",
    "    # Initialize the number of variable assignments to 0\n",
    "    nva = 0\n",
    "    # If a solution is found, retrieve the solution and the number of variable assignments\n",
    "    if solver.NextSolution():\n",
    "        nva = solver.Branches()\n",
    "        solution = [problem[i].Value() for i in range(len(problem))]\n",
    "        # Return the solution and the number of variable assignments\n",
    "        return solution, nva\n",
    "    # If no solution is found, return None and the number of variable assignments\n",
    "    else:\n",
    "        return None, nva\n",
    "\n",
    "constraintsA = [\n",
    "    lambda solver, X: solver.Add(X[0] == X[1] + X[2] + X[4] + X[5]),\n",
    "    lambda solver, X: solver.Add(X[5] > X[4] - X[1]),\n",
    "    lambda solver, X: solver.Add(X[3] == X[4] + X[5] + 21),\n",
    "    lambda solver, X: solver.Add(X[3] * X[3] == X[4] * X[4] * X[0] + 694)\n",
    "]\n",
    "\n",
    "# Problem B\n",
    "constraintsB = [\n",
    "    lambda solver, X: solver.Add(X[7] * X[9] + X[4] * 16 == (X[6] + X[8]) * (X[6] + X[8]) - 48),\n",
    "    lambda solver, X: solver.Add(X[0] - X[2] == (X[7] - X[5]) * (X[7] - X[5]) + 4),\n",
    "    lambda solver, X: solver.Add(4 * X[9] == X[6] * X[6] + 7),\n",
    "    lambda solver, X: solver.Add(X[7] + X[8] < X[3]),\n",
    "    lambda solver, X: solver.Add(X[4] * X[4] < X[6] * X[6] + X[9] * X[9])\n",
    "]\n",
    "\n",
    "# Problem C\n",
    "constraintsC = [\n",
    "    lambda solver, X: solver.Add(2*X[4] == X[3]*X[3] - X[0]*8),\n",
    "    lambda solver, X: solver.Add((X[2]-X[3])(X[2]-X[3]) == X[5]*X[3]*2 + 360),\n",
    "    lambda solver, X: solver.Add(X[2]*X[2] - 135 == X[4]*X[1] + X[0]*X[0]),\n",
    "    lambda solver, X: solver.Add((X[6]+X[2])(X[6]+X[2]) + 445 == (X[1]+X[5])(X[3]+X[4]+X[2]+X[6]*X[0])),\n",
    "    lambda solver, X: solver.Add(X[6]*X[2] + 2250 == X[0]*X[0](X[7]-X[5])),\n",
    "    lambda solver, X: solver.Add(X[3]*X[3]*X[3] - 900 == X[5]*X[1]*X[0] + X[4]*X[4]),\n",
    "    lambda solver, X: solver.Add((X[8]-X[2])(X[8]-X[2]) - (X[8]-X[3])(X[8]-X[3]) == X[0]*X[0] + X[3]*X[6] - X[4]*X[4] - 1425)\n",
    "]\n",
    "\n",
    "# Solve Problem A\n",
    "solutionA, nvaA = solveProblem(range(6), constraintsA, [], \"Problem A\")\n",
    "if solutionA is not None:\n",
    "    print(\"*Solution for Problem A:\", solutionA)\n",
    "else:\n",
    "    print(\"*No solution exists for Problem A\")\n",
    "print(\"nva for Problem A:\", nvaA)\n",
    "\n",
    "\n",
    "\n",
    "# Solve Problem B\n",
    "solutionB, nvaB = solveProblem(range(10), constraintsB, [], \"Problem B\")\n",
    "if solutionB is None:\n",
    "    print(\"*No solution exists for Problem B\")\n",
    "else:\n",
    "    print(\"*Solution for Problem B:\", solutionB)\n",
    "print(\"Number of variable assignments for Problem B:\", nvaB)\n",
    "\n",
    "\n",
    "# Solve Problem C\n",
    "solutionC, nvaC = solveProblem(range(16), constraintsC, [], \"Problem C\")\n",
    "if solutionC is None:\n",
    "    print(\"*No solution exists for Problem C\")\n",
    "else:\n",
    "    print(\"*Solution for Problem C:\", solutionC)\n",
    "print(\"Number of variable assignments for Problem C:\", nvaC)\n"
   ]
  }
 ],
 "metadata": {
  "kernelspec": {
   "display_name": "Python 3 (ipykernel)",
   "language": "python",
   "name": "python3"
  },
  "language_info": {
   "codemirror_mode": {
    "name": "ipython",
    "version": 3
   },
   "file_extension": ".py",
   "mimetype": "text/x-python",
   "name": "python",
   "nbconvert_exporter": "python",
   "pygments_lexer": "ipython3",
   "version": "3.9.13"
  }
 },
 "nbformat": 4,
 "nbformat_minor": 5
}
