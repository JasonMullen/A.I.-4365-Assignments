{
  "cells": [
    {
      "cell_type": "markdown",
      "metadata": {
        "id": "view-in-github",
        "colab_type": "text"
      },
      "source": [
        "<a href=\"https://colab.research.google.com/github/JasonMullen/A.I.-4365-Assignments/blob/main/Random%20Hill%20climbing%20Problem%20Set%201.ipynb\" target=\"_parent\"><img src=\"https://colab.research.google.com/assets/colab-badge.svg\" alt=\"Open In Colab\"/></a>"
      ]
    },
    {
      "cell_type": "markdown",
      "metadata": {
        "id": "ZYa8gWxjf-p1"
      },
      "source": [
        "# Random Hill Climbing HW Problem set 1\n",
        "\n",
        "\n",
        "*   Source code is from Open A.I.\n",
        "*   https://chat.openai.com/chat/8b8ecbf4-bae7-4d6b-bd49-13236efb3cd9\n",
        "\n",
        "\n",
        "*   Link to the Google Document\n",
        "*   https://docs.google.com/document/d/1VAFSXpcHcmGoSz-QB9eE6tw5RvuOvOakgoDcBmbFdpM/edit\n",
        "\n",
        "\n",
        "\n"
      ]
    },
    {
      "cell_type": "code",
      "source": [
        "import random\n",
        "import matplotlib.pyplot as plt\n",
        "\n",
        "def function_f(x, y):\n",
        "    #The F(x,y) function\n",
        "    return (1.5 - x + x*y)**2 + (2.25 - x + x*y*y)**2 + (2.625 - x + x*y*y*y)**2\n",
        "\n",
        "def RHC(sp, p, z, seed):\n",
        "    random.seed(1) #Will produce a random value\n",
        "    s = sp#declaring of the starting place\n",
        "    cost = function_f(*s) #The cost function is equal to the given f(x,y function)\n",
        "    num_generated = 1\n",
        "    visited = [(s, cost)] #will keep track of all the visited parts of the search space.\n",
        "    while True:\n",
        "        #The random.uniform function allows you to generate a random value between two specific values.\n",
        "        neighbors = [(s[0]+z*random.uniform(-0.5, 0.5), s[1]+z*random.uniform(-0.5, 0.5)) for i in range(p)]\n",
        "        neighbor_costs = [function_f(*n) for n in neighbors] #The neighbor_cost variable is being initialized to the the given value returned from function_f \n",
        "        best_neighbor_cost = min(neighbor_costs) #The best neighbor variable is the neighbor_cost with the lowest value\n",
        "        if best_neighbor_cost < cost: #if the best neighbor is less than the cost\n",
        "            s = neighbors[neighbor_costs.index(best_neighbor_cost)] #Then we want to set the S variable equal to the poistion of index postion of the best neighbor cost \n",
        "            cost = best_neighbor_cost #Then the cost value gets updated with the value of the best neighbor\n",
        "        else:\n",
        "            return s, cost, num_generated, visited #else we it just return the variables\n",
        "        visited.append((s, cost)) #This line of code keeps track of the \n",
        "        num_generated += p #Stores and updates the number of generate solutions\n"
      ],
      "metadata": {
        "id": "mbrvBGsQXMko"
      },
      "execution_count": null,
      "outputs": []
    },
    {
      "cell_type": "markdown",
      "source": [
        "**RHC Results and visualization**"
      ],
      "metadata": {
        "id": "BF6F5DKBeEZs"
      }
    },
    {
      "cell_type": "code",
      "execution_count": null,
      "metadata": {
        "id": "cO1Oju9pfJY4"
      },
      "outputs": [],
      "source": [
        "import time\n",
        "import matplotlib.pyplot as plt\n",
        "import pandas as pd\n",
        "plt.figure(figsize=(10, 8))\n",
        "\n",
        "sp_list = [(2,2), (1,4), (-2,-3), (1,-2)] #The starting point list which is given\n",
        "p_list = [80,500] #The Amount of neighbors stored in a list\n",
        "z_list = [0.1, 0.02] #Neighborhood size list\n",
        "counter = 0\n",
        "start_time = time.time() #Allows you to record the start time of your program\n",
        "#Using triple for loop to retrieve the desired results\n",
        "\n",
        "results = []\n",
        "\n",
        "\n",
        "for sp in sp_list: #Looping throught the starting point list\n",
        "    for p in p_list: #Looping throught the neightbors list \n",
        "        for z in z_list: #Looping throught the neighboorhood list\n",
        "            for seed in range(2): # run each configuration 2 times(2 runs) with different seeds\n",
        "                counter = 1 + counter\n",
        "                s, cost, num_generated, visited = RHC(sp, p, z, seed)#initializing the given variables to the RHC function\n",
        "                print(counter,\" iteration \",f\"sp={sp}, p={p}, z={z}, seed={seed}\") #Shows the number of iterartions and the variables being used for each iteration  \n",
        "                print(f\"Best solution: ({s[0]:e}, {s[1]:e})\") #Displays the best x and y value solutions\n",
        "                print(f\"f({s[0]:.6f}, {s[1]:e}) = {cost:e}\") #Displays the results of f(x,y)\n",
        "                print(f\"Number of solutions generated: {num_generated}\\n\") #Displays the number of generated solutions\n",
        "\n",
        "                #Visualization component: Visualizing the search process\n",
        "                #plot the search process\n",
        "                plt.figure(figsize=(12, 8)) #figure size\n",
        "                x = [v[0][0] for v in visited] #\n",
        "                y = [v[0][1] for v in visited] #\n",
        "                c = [v[1] for v in visited] #\n",
        "                #The next 7 lines of code displays the graph\n",
        "                plt.scatter(x, y, c=c)\n",
        "                plt.plot(x, y)\n",
        "                plt.colorbar()\n",
        "                plt.title(f\"sp={sp}, p={p}, z={z}, seed={seed}\")\n",
        "                plt.xlabel(\"x\")\n",
        "                plt.ylabel(\"y\")\n",
        "                plt.show()\n",
        "end_time = time.time()#Allows you to record the stop time of your program\n",
        "run_time = end_time - start_time #This initilizes the run_time variable with the difference of the end time minus the start time\n",
        "print(\"Program run time: \" , run_time, \"Seconds\") #displays the run time\n",
        "df = pd.DataFrame(results)\n"
      ]
    },
    {
      "cell_type": "markdown",
      "source": [
        "# **33rd Iteration**"
      ],
      "metadata": {
        "id": "dZ7SO17D0faY"
      }
    },
    {
      "cell_type": "code",
      "source": [
        "import time\n",
        "import matplotlib.pyplot as plt\n",
        "import pandas as pd\n",
        "plt.figure(figsize=(10, 8))\n",
        "\n",
        "#THE NUMBERS FOR THE 32ND ITERATIONS:\n",
        "#sp_list = [(-1,1), (-2,2), (2,1), (1,4)] #The starting point list which is given\n",
        "#p_list = [100,200] #The Amount of neighbors stored in a list\n",
        "#z_list = [0.1, 0.02] #Neighborhood size list\n",
        "\n",
        "#THE NUMBERS FOR THE 33RD ITERATION:\n",
        "sp_list = [(2,2)]\n",
        "p_list = [800]\n",
        "z_list = [0.0002]\n",
        "counter = 0\n",
        "start_time = time.time() #Allows you to record the start time of your program\n",
        "#Using triple for loop to retrieve the desired results\n",
        "\n",
        "results = []\n",
        "\n",
        "\n",
        "for sp in sp_list: #Looping throught the starting point list\n",
        "    for p in p_list: #Looping throught the neightbors list \n",
        "        for z in z_list: #Looping throught the neighboorhood list\n",
        "            for seed in range(1): # run each configuration 2 times(2 runs) with different seeds\n",
        "                counter = 1 + counter\n",
        "                s, cost, num_generated, visited = RHC(sp, p, z, seed)#initializing the given variables to the RHC function\n",
        "                print(counter,\" iteration \",f\"sp={sp}, p={p}, z={z}, seed={seed}\") #Shows the number of iterartions and the variables being used for each iteration  \n",
        "                print(f\"Best solution: ({s[0]:e}, {s[1]:e})\") #Displays the best x and y value solutions\n",
        "                print(f\"f({s[0]:.6f}, {s[1]:e}) = {cost:e}\") #Displays the results of f(x,y)\n",
        "                print(f\"Number of solutions generated: {num_generated}\\n\") #Displays the number of generated solutions\n",
        "\n",
        "                #Visualization component: Visualizing the search process\n",
        "                #plot the search process\n",
        "                \n",
        "                #plt.figure(figsize=(12, 8)) #figure size\n",
        "                x = [v[0][0] for v in visited] #\n",
        "                y = [v[0][1] for v in visited] #\n",
        "                c = [v[1] for v in visited] #\n",
        "                \n",
        "                #The next 7 lines of code displays the graph\n",
        "                \n",
        "                plt.scatter(x, y, c=c)\n",
        "                plt.plot(x, y)\n",
        "                plt.colorbar()\n",
        "                plt.title(f\"sp={sp}, p={p}, z={z}, seed={seed}\")\n",
        "                plt.xlabel(\"x\")\n",
        "                plt.ylabel(\"y\")\n",
        "                plt.show()\n",
        "\n",
        "end_time = time.time()#Allows you to record the stop time of your program\n",
        "run_time = end_time - start_time #This initilizes the run_time variable with the difference of the end time minus the start time\n",
        "print(\"Program run time: \" , run_time, \"Seconds\") #displays the run time\n",
        "df = pd.DataFrame(results)\n"
      ],
      "metadata": {
        "id": "7NI1_ELm0fIG"
      },
      "execution_count": null,
      "outputs": []
    }
  ],
  "metadata": {
    "colab": {
      "provenance": [],
      "collapsed_sections": [
        "dZ7SO17D0faY"
      ],
      "authorship_tag": "ABX9TyPczyZ/085GSEQB1SApxoM9",
      "include_colab_link": true
    },
    "kernelspec": {
      "display_name": "Python 3",
      "name": "python3"
    },
    "language_info": {
      "name": "python"
    }
  },
  "nbformat": 4,
  "nbformat_minor": 0
}