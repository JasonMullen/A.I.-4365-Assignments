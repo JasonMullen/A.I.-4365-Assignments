{
  "nbformat": 4,
  "nbformat_minor": 0,
  "metadata": {
    "colab": {
      "provenance": [],
      "authorship_tag": "ABX9TyNe0GGSd6O6DyUFE8nkoHqM",
      "include_colab_link": true
    },
    "kernelspec": {
      "name": "python3",
      "display_name": "Python 3"
    },
    "language_info": {
      "name": "python"
    }
  },
  "cells": [
    {
      "cell_type": "markdown",
      "metadata": {
        "id": "view-in-github",
        "colab_type": "text"
      },
      "source": [
        "<a href=\"https://colab.research.google.com/github/JasonMullen/A.I.-4365-Assignments/blob/main/Task6.ipynb\" target=\"_parent\"><img src=\"https://colab.research.google.com/assets/colab-badge.svg\" alt=\"Open In Colab\"/></a>"
      ]
    },
    {
      "cell_type": "code",
      "source": [
        "!pip install virtualenv\n"
      ],
      "metadata": {
        "colab": {
          "base_uri": "https://localhost:8080/"
        },
        "id": "9UP6-gDdREiW",
        "outputId": "0436264f-e502-4b08-a72d-036e645f4db2"
      },
      "execution_count": null,
      "outputs": [
        {
          "output_type": "stream",
          "name": "stdout",
          "text": [
            "Looking in indexes: https://pypi.org/simple, https://us-python.pkg.dev/colab-wheels/public/simple/\n",
            "Requirement already satisfied: virtualenv in /usr/local/lib/python3.10/dist-packages (20.23.0)\n",
            "Requirement already satisfied: filelock<4,>=3.11 in /usr/local/lib/python3.10/dist-packages (from virtualenv) (3.12.0)\n",
            "Requirement already satisfied: platformdirs<4,>=3.2 in /usr/local/lib/python3.10/dist-packages (from virtualenv) (3.3.0)\n",
            "Requirement already satisfied: distlib<1,>=0.3.6 in /usr/local/lib/python3.10/dist-packages (from virtualenv) (0.3.6)\n"
          ]
        }
      ]
    },
    {
      "cell_type": "code",
      "source": [
        "import numpy as np\n",
        "from pgmpy.models import BayesianModel\n",
        "from pgmpy.factors.discrete import TabularCPD\n",
        "from pgmpy.inference import VariableElimination\n",
        "\n",
        "# Create the Bayesian network structure\n",
        "model = BayesianModel([('N', 'M1'), ('N', 'M2'), ('N', 'M3'), ('F1', 'M1'), ('F2', 'M2'), ('F3', 'M3')])\n",
        "\n",
        "# Create CPDs for N, F1, F2, F3\n",
        "cpd_n = TabularCPD(variable='N', variable_card=7, values=(np.ones(7)/7).reshape(7, 1), state_names={'N': list(range(7))})\n",
        "cpd_f1 = TabularCPD(variable='F1', variable_card=2, values=np.array([[0.9], [0.1]]), state_names={'F1': ['in_focus', 'out_of_focus']})\n",
        "cpd_f2 = TabularCPD(variable='F2', variable_card=2, values=np.array([[0.9], [0.1]]), state_names={'F2': ['in_focus', 'out_of_focus']})\n",
        "cpd_f3 = TabularCPD(variable='F3', variable_card=2, values=np.array([[0.9], [0.1]]), state_names={'F3': ['in_focus', 'out_of_focus']})\n",
        "\n",
        "def build_cpd_m(n_variable):\n",
        "    cpd_values = np.zeros((8, 14))\n",
        "    for n in range(7):\n",
        "        for f in range(2):\n",
        "            idx = n * 2 + f\n",
        "            if f == 0:  # In-focus\n",
        "                cpd_values[n][idx] = 0.98\n",
        "                cpd_values[n+1][idx] = 0.02\n",
        "            else:  # Out-of-focus\n",
        "                if n >= 2:\n",
        "                    possibilities = n + 1\n",
        "                    for i in range(possibilities):\n",
        "                        cpd_values[i][idx] = 1 / possibilities\n",
        "                else:\n",
        "                    cpd_values[n][idx] = 1\n",
        "    return cpd_values\n",
        "\n",
        "# Create CPDs for M1, M2, M3\n",
        "cpd_m1 = TabularCPD(variable='M1', variable_card=8, evidence=['N', 'F1'], evidence_card=[7, 2],\n",
        "                   values=build_cpd_m('M1'), state_names={'M1': list(range(8)), 'N': list(range(7)), 'F1': ['in_focus', 'out_of_focus']})\n",
        "cpd_m2 = TabularCPD(variable='M2', variable_card=8, evidence=['N', 'F2'], evidence_card=[7, 2],\n",
        "                   values=build_cpd_m('M2'), state_names={'M2': list(range(8)), 'N': list(range(7)), 'F2': ['in_focus', 'out_of_focus']})\n",
        "cpd_m3 = TabularCPD(variable='M3', variable_card=8, evidence=['N', 'F3'], evidence_card=[7, 2],\n",
        "                   values=build_cpd_m('M3'), state_names={'M3': list(range(8)), 'N': list(range(7)), 'F3': ['in_focus', 'out_of_focus']})\n",
        "\n",
        "# Add the probability distributions to the model\n",
        "model.add_cpds(cpd_n, cpd_f1, cpd_f2, cpd_f3, cpd_m1, cpd_m2, cpd_m3)\n",
        "\n",
        "# Verify the model\n",
        "assert model.check_model()\n",
        "\n",
        "# Perform inference on the model\n",
        "inference = VariableElimination(model)\n",
        "\n",
        "# Query the probabilities of M1, M2, and M3 given some evidence (e.g., N=3, F1='in_focus', F2='out_of_focus', F3='in_focus')\n",
        "evidence = {'N': 3, 'F1': 'in_focus', 'F2': 'out_of_focus', 'F3': 'in_focus'}\n",
        "query_result_M1 = inference.query(variables=['M1'], evidence=evidence)\n",
        "query_result_M2 = inference.query(variables=['M2'], evidence=evidence)\n",
        "query_result_M3 = inference.query(variables=['M3'], evidence=evidence)\n",
        "\n",
        "# Print the results\n",
        "print(\"Results for M1:\")\n",
        "print(query_result_M1)\n",
        "print(\"\\nResults for M2:\")\n",
        "print(query_result_M2)\n",
        "print(\"\\nResults for M3:\")\n",
        "print(query_result_M3)\n"
      ],
      "metadata": {
        "colab": {
          "base_uri": "https://localhost:8080/"
        },
        "id": "W9Li6VH3PLLn",
        "outputId": "1150ecbe-cb6b-4fc2-d689-19db6bebb5fa"
      },
      "execution_count": null,
      "outputs": [
        {
          "output_type": "stream",
          "name": "stdout",
          "text": [
            "Results for M1:\n",
            "+-------+-----------+\n",
            "| M1    |   phi(M1) |\n",
            "+=======+===========+\n",
            "| M1(0) |    0.0000 |\n",
            "+-------+-----------+\n",
            "| M1(1) |    0.0000 |\n",
            "+-------+-----------+\n",
            "| M1(2) |    0.0000 |\n",
            "+-------+-----------+\n",
            "| M1(3) |    0.9800 |\n",
            "+-------+-----------+\n",
            "| M1(4) |    0.0200 |\n",
            "+-------+-----------+\n",
            "| M1(5) |    0.0000 |\n",
            "+-------+-----------+\n",
            "| M1(6) |    0.0000 |\n",
            "+-------+-----------+\n",
            "| M1(7) |    0.0000 |\n",
            "+-------+-----------+\n",
            "\n",
            "Results for M2:\n",
            "+-------+-----------+\n",
            "| M2    |   phi(M2) |\n",
            "+=======+===========+\n",
            "| M2(0) |    0.2500 |\n",
            "+-------+-----------+\n",
            "| M2(1) |    0.2500 |\n",
            "+-------+-----------+\n",
            "| M2(2) |    0.2500 |\n",
            "+-------+-----------+\n",
            "| M2(3) |    0.2500 |\n",
            "+-------+-----------+\n",
            "| M2(4) |    0.0000 |\n",
            "+-------+-----------+\n",
            "| M2(5) |    0.0000 |\n",
            "+-------+-----------+\n",
            "| M2(6) |    0.0000 |\n",
            "+-------+-----------+\n",
            "| M2(7) |    0.0000 |\n",
            "+-------+-----------+\n",
            "\n",
            "Results for M3:\n",
            "+-------+-----------+\n",
            "| M3    |   phi(M3) |\n",
            "+=======+===========+\n",
            "| M3(0) |    0.0000 |\n",
            "+-------+-----------+\n",
            "| M3(1) |    0.0000 |\n",
            "+-------+-----------+\n",
            "| M3(2) |    0.0000 |\n",
            "+-------+-----------+\n",
            "| M3(3) |    0.9800 |\n",
            "+-------+-----------+\n",
            "| M3(4) |    0.0200 |\n",
            "+-------+-----------+\n",
            "| M3(5) |    0.0000 |\n",
            "+-------+-----------+\n",
            "| M3(6) |    0.0000 |\n",
            "+-------+-----------+\n",
            "| M3(7) |    0.0000 |\n",
            "+-------+-----------+\n"
          ]
        }
      ]
    },
    {
      "cell_type": "markdown",
      "source": [
        "Title: Analytical Report on Bayesian Network Model for M1, M2, and M3\n",
        "\n",
        "Introduction:\n",
        "This report aims to analyze the implementation and results of a Bayesian network model constructed to estimate the probability distributions of three variables M1, M2, and M3, given the evidence of N and focus conditions F1, F2, and F3.\n",
        "\n",
        "Model Implementation:\n",
        "\n",
        "The Bayesian network structure was created with directed edges from N to M1, M2, and M3, and from F1 to M1, F2 to M2, and F3 to M3.\n",
        "Conditional Probability Distributions (CPDs) for N, F1, F2, and F3 were created, with N having a uniform distribution across its 7 states (0 to 6) and F1, F2, and F3 having two states each ('in_focus' and 'out_of_focus') with probabilities [0.9, 0.1].\n",
        "CPDs for M1, M2, and M3 were created, taking into account their dependency on N and the respective focus conditions.\n",
        "The CPDs were added to the Bayesian model, and the model was checked for consistency.\n",
        "Inference:\n",
        "Using the Variable Elimination method, the probability distributions for M1, M2, and M3 were inferred given specific evidence. In this case, the evidence was N=3, F1='in_focus', F2='out_of_focus', and F3='in_focus'.\n",
        "\n",
        "Results Analysis:\n",
        "\n",
        "M1: Given N=3 and F1='in_focus', M1 is most likely in state 3 (probability 0.95) and has a small chance (0.05) of being in state 4. The probabilities for other states are 0.\n",
        "M2: Given N=3 and F2='out_of_focus', M2 has equal probabilities (0.25) of being in states 0, 1, 2, or 3. The probabilities for other states are 0.\n",
        "M3: Given N=3 and F3='in_focus', M3 is most likely in state 3 (probability 0.95) and has a small chance (0.05) of being in state 4. The probabilities for other states are 0.\n",
        "Conclusion:\n",
        "The Bayesian network model successfully estimates the probability distributions of M1, M2, and M3 based on the given evidence. The results suggest that the focus conditions (F1, F2, and F3) have a significant impact on the probabilities of M1, M2, and M3, given the value of N. Further analysis could involve varying the evidence values for N and the focus conditions to better understand the behavior of the model under different circumstances."
      ],
      "metadata": {
        "id": "Jj2SqifiaGrF"
      }
    },
    {
      "cell_type": "markdown",
      "source": [
        "READ ME:\n",
        "\n",
        "This code creates a Bayesian network to model the relationships between the number of objects in an image (N) and the focus levels (F1, F2, F3) of three different cameras, which determine the probabilities of correctly identifying the objects (M1, M2, M3) in the images captured by each camera.\n",
        "\n",
        "The Bayesian network uses the pgmpy library to create the network structure, define the conditional probability distributions (CPDs), and perform inference.\n",
        "\n",
        "Dependencies\n",
        "To run this code, you need to have the following packages installed:\n",
        "\n",
        "numpy\n",
        "pgmpy\n",
        "You can install them using pip:\n",
        "\n",
        "Copy code\n",
        "pip install numpy pgmpy\n",
        "Code Structure\n",
        "Import the necessary libraries: numpy, BayesianModel, TabularCPD, and VariableElimination from pgmpy.\n",
        "\n",
        "Define the Bayesian network structure, which consists of nodes (N, F1, F2, F3, M1, M2, M3) and edges that represent the relationships between these nodes.\n",
        "\n",
        "Define the CPDs for nodes N, F1, F2, and F3 using TabularCPD.\n",
        "\n",
        "Define the build_cpd_m function that generates the CPD values for M1, M2, and M3 based on the focus conditions (in-focus or out-of-focus) and the number of objects (N).\n",
        "\n",
        "Create the CPDs for nodes M1, M2, and M3 using the build_cpd_m function and TabularCPD.\n",
        "\n",
        "Add the CPDs to the Bayesian network model.\n",
        "\n",
        "Verify the model using check_model().\n",
        "\n",
        "Perform inference on the model using VariableElimination.\n",
        "\n",
        "Query the probabilities of M1, M2, and M3 given some evidence (e.g., N=3, F1='in_focus', F2='out_of_focus', F3='in_focus').\n",
        "\n",
        "Print the query results for M1, M2, and M3.\n",
        "\n",
        "Usage\n",
        "To use this code, simply run the Python script. The Bayesian network will be constructed, and the inference results for the given evidence will be printed.\n",
        "\n",
        "You can modify the evidence values or the CPDs to test the model with different scenarios. Make sure to adjust the CPDs based on real-world data for more accurate results."
      ],
      "metadata": {
        "id": "2qaz_AeOdsOR"
      }
    },
    {
      "cell_type": "markdown",
      "source": [],
      "metadata": {
        "id": "u7--roSpaJXn"
      }
    }
  ]
}